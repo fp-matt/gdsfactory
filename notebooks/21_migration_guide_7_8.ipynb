{
 "cells": [
  {
   "cell_type": "markdown",
   "id": "0",
   "metadata": {},
   "source": [
    "## Gdsfactory v8 Upgrade\n",
    "\n",
    "Gdsfactory v8, based on KFactory, offers enhanced routing functions and additional features from KLayout, including DRC, dummy fill, and connectivity checks.\n",
    "\n",
    "For those still using gdsfactory v7, it is hosted in [https://github.com/gdsfactory/gdsfactory7](https://github.com/gdsfactory/gdsfactory7), along with the [documentation](https://gdsfactory.github.io/gdsfactory7/).\n",
    "\n",
    "### Benefits of Migrating:\n",
    "\n",
    "- **Integrated Data**: Ports, information, and settings are stored within the GDS file, eliminating the need for separate files.\n",
    "- **Improved Booleans**: Booleans are more robust with integer-based polygons, removing slivers of less than 1nm.\n",
    "- **Enhanced Features**: More robust booleans, DRC, LVS, and connectivity checks.\n",
    "- **Active Maintenance**: More actively maintained with frequent updates.\n",
    "- **Advanced Routing Algorithms**: Better routing algorithms for efficient design.\n",
    "- **Grid Alignment**: Ports and polygons snap to grid by default, reducing the likelihood of 1nm gaps.\n",
    "\n",
    "### Drawbacks of Migrating:\n",
    "\n",
    "- **Potential Errors**: As with any code changes, undesired errors may be introduced. It is recommended to have regression tests for all your components.\n",
    "- **Non-Manhattan Placement**: Slightly more challenging.\n",
    "- **Incomplete Functionality**: Some features, such as `route_path_length_match`, are not yet implemented.\n",
    "\n",
    "### Major Differences:\n",
    "\n",
    "- **Coordinate System**: `xmin`, `xmax`, `ymin`, and `ymax` are deprecated and will change to Database Units (1nm by default) in gdsfactory9. To set/get them in um, use `d` (decimal) e.g., `Instance.dxmin` which is in float.\n",
    "- **LayerMap**: Now an Enum of integers.\n",
    "- **Routing Functions**: New functions do not require starting ports to be in the same orientation and monitor for self-intersections. `get_route` is now `route_single`, and `get_bundle` is now `route_bundle`.\n",
    "- **Grid Snapping**: All polygon points snap to grid, mitigating 1nm gaps.\n",
    "\n",
    "### Minor Differences:\n",
    "\n",
    "- Replace `from gdsfactory.cell import cell` with `from gdsfactory import cell`.\n",
    "\n",
    "### How to Migrate:\n",
    "\n",
    "We provide a migration script to assist with migrating your code. Ensure to verify any automatic migrations, and ideally, write regression tests for your code before migrating to ensure accuracy.\n",
    "\n",
    "```bash\n",
    "gf migrate -i --migration 7to8 <input_folder/file> \n",
    "# or \n",
    "gf migrate --inplace --migration 7to8 <input_folder/file>\n"
   ]
  },
  {
   "cell_type": "markdown",
   "id": "1",
   "metadata": {},
   "source": [
    "## Use dxmin, dcenter, dmove, dsize_info\n",
    "\n",
    "This is the biggest difference. By default `xmin`, `ymin`, `move` and `size_info` will change from um (Decimals) to Database units in the next major gdsfactory release."
   ]
  },
  {
   "cell_type": "code",
   "execution_count": null,
   "id": "2",
   "metadata": {},
   "outputs": [],
   "source": [
    "import gdsfactory as gf\n",
    "\n",
    "c = gf.Component()\n",
    "ref = c << gf.components.bend_euler(radius=5)\n",
    "c"
   ]
  },
  {
   "cell_type": "code",
   "execution_count": null,
   "id": "3",
   "metadata": {},
   "outputs": [],
   "source": [
    "print(ref.dxmax)"
   ]
  },
  {
   "cell_type": "markdown",
   "id": "4",
   "metadata": {},
   "source": [
    "As you can see you can still use `ref.xmax` but you will get a deprecation warning."
   ]
  },
  {
   "cell_type": "code",
   "execution_count": null,
   "id": "5",
   "metadata": {},
   "outputs": [],
   "source": [
    "print(ref.xmax)"
   ]
  },
  {
   "cell_type": "code",
   "execution_count": null,
   "id": "6",
   "metadata": {},
   "outputs": [],
   "source": [
    "print(ref.dsize_info.width)"
   ]
  },
  {
   "cell_type": "markdown",
   "id": "7",
   "metadata": {},
   "source": [
    "## Use instance.drotate \n",
    "\n",
    "For setting arbitrary rotation angles you can use `Instance.drotate(30)` to rotate 30deg as an example."
   ]
  },
  {
   "cell_type": "code",
   "execution_count": null,
   "id": "8",
   "metadata": {},
   "outputs": [],
   "source": [
    "c = gf.Component()\n",
    "ref = c << gf.components.bend_euler(radius=5)\n",
    "ref.drotate(45)\n",
    "c"
   ]
  },
  {
   "cell_type": "markdown",
   "id": "9",
   "metadata": {},
   "source": [
    "## LayerMap \n",
    "\n",
    "In v7 or below, a LayerMap needs to be called\n",
    "\n",
    "```python\n",
    "\n",
    "from gdsfactory.technology import LayerMap\n",
    "\n",
    "class LayerMapFab(LayerMap):\n",
    "    WG = (1, 0)\n",
    "\n",
    "LAYER = LayerMapFab()\n",
    "```\n",
    "\n",
    "However in v8 it has a different type and does not need to be called \n",
    "\n",
    "```python\n",
    "\n",
    "from gdsfactory.technology import LayerMap\n",
    "\n",
    "class LayerMapFab(LayerMap):\n",
    "    WG = (1, 0)\n",
    "\n",
    "LAYER = LayerMapFab\n",
    "```\n",
    "\n",
    "See below:"
   ]
  },
  {
   "cell_type": "code",
   "execution_count": null,
   "id": "10",
   "metadata": {},
   "outputs": [],
   "source": [
    "from gdsfactory.technology import LayerMap\n",
    "\n",
    "\n",
    "class LayerMapFab(LayerMap):\n",
    "    WG = (1, 0)\n",
    "\n",
    "\n",
    "LAYER = LayerMapFab\n",
    "type(LAYER)"
   ]
  },
  {
   "cell_type": "code",
   "execution_count": null,
   "id": "11",
   "metadata": {},
   "outputs": [],
   "source": [
    "LAYER.WG"
   ]
  },
  {
   "cell_type": "code",
   "execution_count": null,
   "id": "12",
   "metadata": {},
   "outputs": [],
   "source": [
    "tuple(LAYER.WG)"
   ]
  },
  {
   "cell_type": "code",
   "execution_count": null,
   "id": "13",
   "metadata": {},
   "outputs": [],
   "source": [
    "str(LAYER.WG)"
   ]
  },
  {
   "cell_type": "markdown",
   "id": "14",
   "metadata": {},
   "source": [
    "## Component.bbox is now a function\n",
    "\n",
    "Both Components and Instances have a `bbox` and `dbbox` that are now functions."
   ]
  },
  {
   "cell_type": "code",
   "execution_count": null,
   "id": "15",
   "metadata": {},
   "outputs": [],
   "source": [
    "c = gf.c.straight(length=10)\n",
    "c.bbox()"
   ]
  },
  {
   "cell_type": "code",
   "execution_count": null,
   "id": "16",
   "metadata": {},
   "outputs": [],
   "source": [
    "c.dbbox()"
   ]
  },
  {
   "cell_type": "markdown",
   "id": "17",
   "metadata": {},
   "source": [
    "For the old bbox behavior you can use `c.bbox_np` which returns the bbox as a numpy array."
   ]
  },
  {
   "cell_type": "code",
   "execution_count": null,
   "id": "18",
   "metadata": {},
   "outputs": [],
   "source": [
    "c.bbox_np()"
   ]
  },
  {
   "cell_type": "markdown",
   "id": "19",
   "metadata": {},
   "source": [
    "## Routing functions\n",
    "\n",
    "Routing functions do no longer return the route Instances but they place the instances in a Component, so you have to pass a Component."
   ]
  },
  {
   "cell_type": "code",
   "execution_count": null,
   "id": "20",
   "metadata": {},
   "outputs": [],
   "source": [
    "c = gf.Component()\n",
    "w = gf.components.straight(cross_section=\"rib\")\n",
    "top = c << w\n",
    "bot = c << w\n",
    "bot.dmove((0, -2))\n",
    "\n",
    "p0 = top.ports[\"o2\"]\n",
    "p1 = bot.ports[\"o2\"]\n",
    "\n",
    "r = gf.routing.route_single(\n",
    "    c,\n",
    "    p0,\n",
    "    p1,\n",
    "    cross_section=\"rib\",\n",
    ")\n",
    "c"
   ]
  },
  {
   "cell_type": "markdown",
   "id": "21",
   "metadata": {},
   "source": [
    "🚀 The new routing functions allow the starting ports `ports1` to have different orientations.\n",
    "\n",
    "The end ports still require to have the same orientation."
   ]
  },
  {
   "cell_type": "code",
   "execution_count": null,
   "id": "22",
   "metadata": {},
   "outputs": [],
   "source": [
    "c = gf.Component()\n",
    "top = c << gf.components.nxn(north=8, south=0, east=0, west=0)\n",
    "bot = c << gf.components.nxn(north=2, south=2, east=2, west=2, xsize=10, ysize=10)\n",
    "top.dmovey(100)\n",
    "\n",
    "routes = gf.routing.route_bundle(\n",
    "    c,\n",
    "    ports1=bot.ports,\n",
    "    ports2=top.ports,\n",
    "    radius=5,\n",
    "    sort_ports=True,\n",
    ")\n",
    "c"
   ]
  },
  {
   "cell_type": "markdown",
   "id": "23",
   "metadata": {},
   "source": [
    "## Built in connectivity checks\n",
    "\n",
    "gdsfactory8 includes connectivity checks to ensure things are properly connected."
   ]
  },
  {
   "cell_type": "code",
   "execution_count": null,
   "id": "24",
   "metadata": {},
   "outputs": [],
   "source": [
    "c = gf.Component()\n",
    "s = c << gf.components.straight(width=1)\n",
    "\n",
    "b1 = c << gf.components.bend_euler()\n",
    "b1.connect(\"o1\", s[\"o2\"], allow_width_mismatch=True)\n",
    "\n",
    "b2 = c << gf.components.bend_euler(radius=5)\n",
    "b2.connect(\"o1\", s[\"o1\"], allow_width_mismatch=True)\n",
    "\n",
    "gc = gf.components.grating_coupler_elliptical_te()\n",
    "gc1 = c << gc\n",
    "gc2 = c << gc\n",
    "\n",
    "gc1.connect(\"o1\", b1.ports[\"o2\"])\n",
    "gc2.connect(\"o1\", b2.ports[\"o2\"])\n",
    "\n",
    "c.plot()"
   ]
  },
  {
   "cell_type": "code",
   "execution_count": null,
   "id": "25",
   "metadata": {},
   "outputs": [],
   "source": [
    "lyrdb = c.connectivity_check(port_types=(\"optical\", \"electrical\"))\n",
    "filepath = gf.config.home / \"errors.lyrdb\"\n",
    "lyrdb.save(filepath)\n",
    "gf.show(c, lyrdb=filepath)"
   ]
  }
 ],
 "metadata": {
  "jupytext": {
   "cell_metadata_filter": "-all",
   "custom_cell_magics": "kql"
  },
  "kernelspec": {
   "display_name": "base",
   "language": "python",
   "name": "python3"
  },
  "language_info": {
   "codemirror_mode": {
    "name": "ipython",
    "version": 3
   },
   "file_extension": ".py",
   "mimetype": "text/x-python",
   "name": "python",
   "nbconvert_exporter": "python",
   "pygments_lexer": "ipython3",
   "version": "3.11.5"
  }
 },
 "nbformat": 4,
 "nbformat_minor": 5
}
