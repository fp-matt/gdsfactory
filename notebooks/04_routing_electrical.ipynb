{
 "cells": [
  {
   "cell_type": "markdown",
   "id": "0",
   "metadata": {},
   "source": [
    "# Routing to IO\n",
    "\n",
    "## Routing electrical\n",
    "For routing low speed DC electrical ports you can use sharp corners instead of smooth bends.\n",
    "\n",
    "You can also define `port.orientation = None` to ignore the port orientation for low speed DC ports."
   ]
  },
  {
   "cell_type": "markdown",
   "id": "1",
   "metadata": {},
   "source": [
    "For single route between ports you can use `route_single_electrical`\n",
    "\n",
    "### route_single_electrical\n",
    "\n",
    "\n",
    "`route_single_electrical` has `bend = wire_corner` with a 90deg bend corner."
   ]
  },
  {
   "cell_type": "code",
   "execution_count": null,
   "id": "2",
   "metadata": {},
   "outputs": [],
   "source": [
    "from functools import partial\n",
    "\n",
    "import gdsfactory as gf\n",
    "from gdsfactory.generic_tech import get_generic_pdk\n",
    "from gdsfactory.samples.big_device import big_device\n",
    "\n",
    "gf.config.rich_output()\n",
    "\n",
    "c = gf.Component()\n",
    "pt = c << gf.components.pad_array(port_orientation=270, columns=3)\n",
    "pb = c << gf.components.pad_array(port_orientation=90, columns=3)\n",
    "pt.dmove((70, 200))\n",
    "c.plot()"
   ]
  },
  {
   "cell_type": "code",
   "execution_count": null,
   "id": "3",
   "metadata": {},
   "outputs": [],
   "source": [
    "c = gf.Component()\n",
    "pt = c << gf.components.pad_array(port_orientation=270, columns=3)\n",
    "pb = c << gf.components.pad_array(port_orientation=90, columns=3)\n",
    "pt.dmove((70, 200))\n",
    "route = gf.routing.route_single_electrical(c, pt.ports[\"e11\"], pb.ports[\"e11\"])\n",
    "c.plot()"
   ]
  },
  {
   "cell_type": "code",
   "execution_count": null,
   "id": "4",
   "metadata": {},
   "outputs": [],
   "source": [
    "c = gf.Component()\n",
    "pt = c << gf.components.pad_array(orientation=None, columns=3)\n",
    "pb = c << gf.components.pad_array(orientation=None, columns=3)\n",
    "pt.dmove((70, 200))\n",
    "route = gf.routing.route_single(\n",
    "    c, pt.ports[\"e11\"], pb.ports[\"e11\"], cross_section=\"strip\"\n",
    ")\n",
    "c.plot()"
   ]
  },
  {
   "cell_type": "markdown",
   "id": "5",
   "metadata": {},
   "source": [
    "There is also `bend = wire_corner45` for 45deg bend corner with parametrizable \"radius\":"
   ]
  },
  {
   "cell_type": "code",
   "execution_count": null,
   "id": "6",
   "metadata": {},
   "outputs": [],
   "source": [
    "c = gf.Component()\n",
    "pt = c << gf.components.pad_array(port_orientation=270, columns=1)\n",
    "pb = c << gf.components.pad_array(port_orientation=90, columns=1)\n",
    "pt.dmove((300, 300))\n",
    "route = gf.routing.route_single(\n",
    "    c,\n",
    "    pt.ports[\"e11\"],\n",
    "    pb.ports[\"e11\"],\n",
    "    bend=\"wire_corner45\",\n",
    "    port_type=\"electrical\",\n",
    "    taper=None,\n",
    "    cross_section=\"metal_routing\",\n",
    "    allow_width_mismatch=True,\n",
    ")\n",
    "c.plot()"
   ]
  },
  {
   "cell_type": "code",
   "execution_count": null,
   "id": "7",
   "metadata": {},
   "outputs": [],
   "source": [
    "c = gf.Component()\n",
    "pt = c << gf.components.pad_array(orientation=270, columns=1)\n",
    "pb = c << gf.components.pad_array(orientation=90, columns=1)\n",
    "pt.dmove((300, 300))\n",
    "route = gf.routing.route_single(\n",
    "    c,\n",
    "    pt.ports[\"e11\"],\n",
    "    pb.ports[\"e11\"],\n",
    "    bend=\"wire_corner45\",\n",
    "    radius=100,\n",
    "    taper=None,\n",
    "    cross_section=\"metal_routing\",\n",
    "    port_type=\"electrical\",\n",
    "    allow_width_mismatch=True,\n",
    ")\n",
    "c.plot()"
   ]
  },
  {
   "cell_type": "markdown",
   "id": "8",
   "metadata": {},
   "source": [
    "### route_quad"
   ]
  },
  {
   "cell_type": "code",
   "execution_count": null,
   "id": "9",
   "metadata": {},
   "outputs": [],
   "source": [
    "c = gf.Component()\n",
    "pt = c << gf.components.pad_array(orientation=270, columns=3)\n",
    "pb = c << gf.components.pad_array(orientation=90, columns=3)\n",
    "pt.dmove((100, 200))\n",
    "gf.routing.route_quad(c, pt.ports[\"e11\"], pb.ports[\"e11\"], layer=(49, 0))\n",
    "c.plot()"
   ]
  },
  {
   "cell_type": "markdown",
   "id": "10",
   "metadata": {},
   "source": [
    "### route_single_from_steps"
   ]
  },
  {
   "cell_type": "code",
   "execution_count": null,
   "id": "11",
   "metadata": {},
   "outputs": [],
   "source": [
    "import gdsfactory as gf\n",
    "\n",
    "c = gf.Component()\n",
    "pt = c << gf.components.pad_array(orientation=270, columns=3)\n",
    "pb = c << gf.components.pad_array(orientation=90, columns=3)\n",
    "pt.dmove((100, 200))\n",
    "route = gf.routing.route_single_from_steps(\n",
    "    c,\n",
    "    pb.ports[\"e11\"],\n",
    "    pt.ports[\"e11\"],\n",
    "    steps=[\n",
    "        {\"y\": 200},\n",
    "    ],\n",
    "    cross_section=\"metal_routing\",\n",
    "    bend=gf.components.wire_corner,\n",
    "    port_type=\"electrical\",\n",
    "    allow_width_mismatch=True,\n",
    ")\n",
    "c.plot()"
   ]
  },
  {
   "cell_type": "code",
   "execution_count": null,
   "id": "12",
   "metadata": {},
   "outputs": [],
   "source": [
    "c = gf.Component()\n",
    "pt = c << gf.components.pad_array(orientation=None, columns=3)\n",
    "pb = c << gf.components.pad_array(orientation=None, columns=3)\n",
    "pt.dmove((100, 200))\n",
    "route = gf.routing.route_single_from_steps(\n",
    "    c,\n",
    "    pb.ports[\"e11\"],\n",
    "    pt.ports[\"e11\"],\n",
    "    steps=[\n",
    "        {\"y\": 200},\n",
    "    ],\n",
    "    cross_section=\"metal_routing\",\n",
    "    bend=gf.components.wire_corner,\n",
    "    port_type=\"electrical\",\n",
    "    allow_width_mismatch=True,\n",
    ")\n",
    "c.plot()"
   ]
  },
  {
   "cell_type": "markdown",
   "id": "13",
   "metadata": {},
   "source": [
    "### route_bundle_electrical\n",
    "\n",
    "For routing groups of ports you can use `route_bundle` that returns a bundle of routes using a bundle router (also known as bus or river router)"
   ]
  },
  {
   "cell_type": "code",
   "execution_count": null,
   "id": "14",
   "metadata": {},
   "outputs": [],
   "source": [
    "c = gf.Component()\n",
    "pt = c << gf.components.pad_array(orientation=270, columns=3)\n",
    "pb = c << gf.components.pad_array(orientation=90, columns=3)\n",
    "pt.dmove((100, 200))\n",
    "\n",
    "routes = gf.routing.route_bundle_electrical(\n",
    "    c, pt.ports, pb.ports, end_straight_length=60, separation=30\n",
    ")\n",
    "c.plot()"
   ]
  },
  {
   "cell_type": "markdown",
   "id": "15",
   "metadata": {},
   "source": [
    "## Routing to pads\n",
    "\n",
    "You can also route to electrical pads."
   ]
  },
  {
   "cell_type": "code",
   "execution_count": null,
   "id": "16",
   "metadata": {},
   "outputs": [],
   "source": [
    "c = gf.components.straight_heater_metal(length=100.0)\n",
    "cc = gf.routing.add_pads_bot(component=c, port_names=(\"l_e4\", \"r_e4\"), fanout_length=80)\n",
    "cc.plot()"
   ]
  },
  {
   "cell_type": "code",
   "execution_count": null,
   "id": "17",
   "metadata": {
    "lines_to_next_cell": 2
   },
   "outputs": [],
   "source": [
    "c = gf.components.straight_heater_metal(length=100.0)\n",
    "cc = gf.routing.add_pads_bot(component=c, port_names=(\"l_e4\", \"r_e4\"), fanout_length=80)\n",
    "cc.plot()"
   ]
  },
  {
   "cell_type": "code",
   "execution_count": null,
   "id": "18",
   "metadata": {},
   "outputs": [],
   "source": [
    "c = gf.components.straight_heater_metal(length=110)\n",
    "cc = gf.routing.add_pads_top(component=c, port_names=(\"l_e2\", \"r_e2\"), fanout_length=80)\n",
    "cc.plot()"
   ]
  },
  {
   "cell_type": "code",
   "execution_count": null,
   "id": "19",
   "metadata": {},
   "outputs": [],
   "source": [
    "c = gf.c.nxn(\n",
    "    xsize=600,\n",
    "    ysize=200,\n",
    "    north=2,\n",
    "    south=3,\n",
    "    wg_width=10,\n",
    "    layer=\"M3\",\n",
    "    port_type=\"electrical\",\n",
    ")\n",
    "cc = gf.routing.add_pads_top(component=c)\n",
    "cc.plot()"
   ]
  },
  {
   "cell_type": "code",
   "execution_count": null,
   "id": "20",
   "metadata": {},
   "outputs": [],
   "source": [
    "n = west = north = south = east = 10\n",
    "spacing = 20\n",
    "c = gf.components.nxn(\n",
    "    xsize=n * spacing,\n",
    "    ysize=n * spacing,\n",
    "    west=west,\n",
    "    east=east,\n",
    "    north=north,\n",
    "    south=south,\n",
    "    port_type=\"electrical\",\n",
    "    wg_width=10,\n",
    ")\n",
    "c.plot()"
   ]
  },
  {
   "cell_type": "code",
   "execution_count": null,
   "id": "21",
   "metadata": {},
   "outputs": [],
   "source": [
    "cc = gf.routing.add_pads_top(component=c, fanout_length=300)\n",
    "cc.plot()"
   ]
  },
  {
   "cell_type": "markdown",
   "id": "22",
   "metadata": {},
   "source": [
    "## Routing to optical terminations\n",
    "\n",
    "### Route to Fiber Array\n",
    "\n",
    "You can route to a fiber array."
   ]
  },
  {
   "cell_type": "code",
   "execution_count": null,
   "id": "23",
   "metadata": {},
   "outputs": [],
   "source": [
    "from gdsfactory.samples.big_device import big_device\n",
    "\n",
    "component = big_device(nports=10)\n",
    "c = gf.routing.add_fiber_array(component=component, radius=10.0, fanout_length=60.0)\n",
    "c.plot()"
   ]
  },
  {
   "cell_type": "markdown",
   "id": "24",
   "metadata": {},
   "source": [
    "You can also mix and match TE and TM grating couplers. Notice that the `TM` polarization grating coupler is bigger."
   ]
  },
  {
   "cell_type": "code",
   "execution_count": null,
   "id": "25",
   "metadata": {},
   "outputs": [],
   "source": [
    "import gdsfactory as gf\n",
    "\n",
    "c = gf.components.mzi_phase_shifter()\n",
    "gcte = gf.components.grating_coupler_te\n",
    "\n",
    "cc = gf.routing.add_fiber_array(\n",
    "    component=c,\n",
    "    optical_routing_type=2,\n",
    "    grating_coupler=gf.components.grating_coupler_te,\n",
    "    radius=20,\n",
    ")\n",
    "cc.plot()"
   ]
  },
  {
   "cell_type": "markdown",
   "id": "26",
   "metadata": {},
   "source": [
    "### Route to edge couplers\n",
    "\n",
    "You can also route Edge couplers to a fiber array or to both sides of the chip.\n",
    "\n",
    "For routing to both sides you can follow different strategies:\n",
    "\n",
    "1. Place the edge couplers and route your components to the edge couplers.\n",
    "2. Extend your component ports to each side.\n",
    "3. Anything you imagine ..."
   ]
  }
 ],
 "metadata": {
  "jupytext": {
   "cell_metadata_filter": "-all",
   "custom_cell_magics": "kql"
  },
  "kernelspec": {
   "display_name": "base",
   "language": "python",
   "name": "python3"
  },
  "language_info": {
   "codemirror_mode": {
    "name": "ipython",
    "version": 3
   },
   "file_extension": ".py",
   "mimetype": "text/x-python",
   "name": "python",
   "nbconvert_exporter": "python",
   "pygments_lexer": "ipython3",
   "version": "3.11.5"
  }
 },
 "nbformat": 4,
 "nbformat_minor": 5
}
