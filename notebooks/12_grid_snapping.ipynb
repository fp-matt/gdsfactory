{
 "cells": [
  {
   "cell_type": "markdown",
   "id": "0",
   "metadata": {},
   "source": [
    "# Grid snapping\n",
    "\n",
    "GDS represents points as integers where each point corresponds to a database unit (DBU). Typically, in most foundries, the default DBU is set to 1 nanometer (1nm).\n",
    "\n",
    "gdsfactory snaps ports to the grid by default to avoid grid snapping errors which are common in layout designs.\n",
    "\n",
    "\n",
    "![](https://i.imgur.com/SUXBWed.png)\n",
    "\n",
    "Example of grid snapping errors.\n",
    "\n",
    "![](https://i.imgur.com/suiHyqM.png)\n",
    "\n"
   ]
  },
  {
   "cell_type": "code",
   "execution_count": null,
   "id": "1",
   "metadata": {},
   "outputs": [],
   "source": [
    "import gdsfactory as gf\n",
    "\n",
    "nm = 1e-3\n",
    "\n",
    "wg1 = gf.Component()\n",
    "wg1.add_polygon(\n",
    "    [(0, 0), (1.4 * nm, 0), (1.4 * nm, 1 * nm), (0, 1 * nm)], layer=(1, 0)\n",
    ")  # rounds to 1 nm\n",
    "\n",
    "wg1.add_polygon(\n",
    "    [(0, 3 * nm), (1.6 * nm, 3 * nm), (1.6 * nm, 4 * nm), (0, 4 * nm)], layer=(1, 0)\n",
    ")  # rounds to 2 nm\n",
    "\n",
    "wg1.plot()"
   ]
  },
  {
   "cell_type": "markdown",
   "id": "2",
   "metadata": {},
   "source": [
    "## ⚠️ Warning: Manhattan Orientations\n",
    "It's crucial to always maintain ports with Manhattan orientations (0, 90, 180, 270 degrees). Non-Manhattan ports can lead to ports snapping off the grid, resulting in 1nm gaps in your layouts, which can be detrimental to the design's integrity.\n",
    "\n",
    "Although **gdsfactory** provides functions to connect and route component ports that are off-grid or have non-Manhattan orientations, this feature is **disabled by default** for safety reasons.\n",
    "\n",
    "> **Note:** If you intend to create off-grid ports and non-Manhattan connections, you must enable this feature manually. This should be done with caution and a thorough understanding of the potential implications on your design."
   ]
  },
  {
   "cell_type": "code",
   "execution_count": null,
   "id": "3",
   "metadata": {},
   "outputs": [],
   "source": [
    "c = gf.Component()\n",
    "w1 = c << gf.c.straight(length=4 * nm, width=4 * nm)\n",
    "w1.drotate(45)\n",
    "\n",
    "w2 = c << gf.c.straight(length=4 * nm, width=4 * nm)\n",
    "w2.connect(\"o1\", w1[\"o2\"])\n",
    "c  # in this case ports overlap by an extra nm because of the rotation, instead of connecting them with no overlap"
   ]
  },
  {
   "cell_type": "code",
   "execution_count": null,
   "id": "4",
   "metadata": {},
   "outputs": [],
   "source": [
    "c = gf.Component()\n",
    "w1 = c << gf.components.straight(length=4 * nm, width=4 * nm)\n",
    "w1.drotate(30)\n",
    "\n",
    "w2 = c << gf.components.straight(length=4 * nm, width=4 * nm)\n",
    "w2.connect(\"o1\", w1[\"o2\"])\n",
    "c  # in this case ports have a 1nm gap error because of the rotation"
   ]
  },
  {
   "cell_type": "markdown",
   "id": "5",
   "metadata": {},
   "source": [
    "\n",
    "## Fix Non manhattan connections\n",
    "\n",
    "The GDS format often has issues with non-manhattan shapes, due to the rounding of vertices to a unit grid and to downstream tools (i.e. DRC) which often tend to assume cell references only have rotations at 90 degree intervals.\n",
    "\n",
    "To fix it, you can insert them as virtual instances.\n",
    "\n",
    "For example:"
   ]
  },
  {
   "cell_type": "code",
   "execution_count": null,
   "id": "6",
   "metadata": {},
   "outputs": [],
   "source": [
    "import gdsfactory as gf\n",
    "\n",
    "nm = 1e-3\n",
    "c = gf.Component()\n",
    "w = gf.components.straight(length=4 * nm, width=4 * nm)\n",
    "w1 = c.create_vinst(w)\n",
    "w1.rotate(30)\n",
    "\n",
    "w2 = c.create_vinst(w)\n",
    "w2.connect(\"o1\", w1[\"o2\"])\n",
    "c"
   ]
  },
  {
   "cell_type": "code",
   "execution_count": null,
   "id": "7",
   "metadata": {},
   "outputs": [],
   "source": [
    "import gdsfactory as gf\n",
    "\n",
    "\n",
    "@gf.cell(check_instances=\"none\")\n",
    "def demo_non_manhattan():\n",
    "    c = gf.Component(\"bend\")\n",
    "    b = c << gf.components.bend_circular(angle=30)\n",
    "    s = c << gf.components.straight(length=5)\n",
    "    s.connect(\"o1\", b.ports[\"o2\"])\n",
    "    return c\n",
    "\n",
    "\n",
    "c1 = demo_non_manhattan()\n",
    "c1"
   ]
  },
  {
   "cell_type": "markdown",
   "id": "8",
   "metadata": {},
   "source": [
    "if you zoom in between the bends you will see a notch between waveguides due to non-manhattan connection between the bends.\n",
    "\n",
    "![gap](https://i.imgur.com/jBEwy9T.png)\n",
    "\n",
    "\n",
    "## Solution"
   ]
  },
  {
   "cell_type": "code",
   "execution_count": null,
   "id": "9",
   "metadata": {},
   "outputs": [],
   "source": [
    "import gdsfactory as gf\n",
    "\n",
    "\n",
    "@gf.vcell\n",
    "def snap_bends() -> gf.ComponentAllAngle:\n",
    "    c = gf.ComponentAllAngle()\n",
    "    b = gf.c.bend_euler_all_angle(angle=37)\n",
    "    b1 = c << b\n",
    "    b2 = c << b\n",
    "    b2.connect(\"o1\", b1.ports[\"o2\"])\n",
    "    c.add_port(\"o1\", port=b1.ports[\"o1\"])\n",
    "    c.add_port(\"o2\", port=b2.ports[\"o2\"])\n",
    "    return c\n",
    "\n",
    "\n",
    "c = snap_bends()\n",
    "c"
   ]
  },
  {
   "cell_type": "code",
   "execution_count": null,
   "id": "10",
   "metadata": {},
   "outputs": [],
   "source": [
    "c.show()"
   ]
  },
  {
   "cell_type": "markdown",
   "id": "11",
   "metadata": {},
   "source": [
    "If you zoom in the connection you will see now a perfect connection.\n",
    "\n",
    "![no gap](https://i.imgur.com/VbSgIjP.png)"
   ]
  },
  {
   "cell_type": "markdown",
   "id": "12",
   "metadata": {},
   "source": []
  }
 ],
 "metadata": {
  "jupytext": {
   "cell_metadata_filter": "-all",
   "custom_cell_magics": "kql"
  },
  "kernelspec": {
   "display_name": "base",
   "language": "python",
   "name": "python3"
  },
  "language_info": {
   "codemirror_mode": {
    "name": "ipython",
    "version": 3
   },
   "file_extension": ".py",
   "mimetype": "text/x-python",
   "name": "python",
   "nbconvert_exporter": "python",
   "pygments_lexer": "ipython3",
   "version": "3.11.5"
  }
 },
 "nbformat": 4,
 "nbformat_minor": 5
}
