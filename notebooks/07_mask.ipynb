{
 "cells": [
  {
   "cell_type": "markdown",
   "id": "0",
   "metadata": {},
   "source": [
    "# Die assembly\n",
    "\n",
    "With gdsfactory you can easily go from a simple Component, to a Component with many components inside.\n",
    "\n",
    "In the same way that you need to Layout for DRC (Design Rule Check) clean devices, you have to layout obeying the Design for Test (DFT) and Design for Packaging rules.\n",
    "\n",
    "## Design for test\n",
    "\n",
    "To measure your chips after fabrication you need to decide your test configurations. This includes Design For Testing Rules like:\n",
    "\n",
    "- `Individual input and output fibers` versus `fiber array`. You can use `add_fiber_array` for easier testing and higher throughput, or `add_fiber_single` for the flexibility of single fibers.\n",
    "- Fiber array pitch (127um or 250um) if using a fiber array.\n",
    "- Pad pitch for DC and RF high speed probes (100, 125, 150, 200um). Probe configuration (GSG, GS ...)\n",
    "- Test layout for DC, RF and optical fibers.\n"
   ]
  },
  {
   "cell_type": "code",
   "execution_count": null,
   "id": "1",
   "metadata": {},
   "outputs": [],
   "source": [
    "from functools import partial\n",
    "\n",
    "import json\n",
    "import gdsfactory as gf\n",
    "from gdsfactory.generic_tech import get_generic_pdk\n",
    "from gdsfactory.labels.ehva import add_label_ehva\n",
    "from gdsfactory.labels.add_label_yaml import add_label_json"
   ]
  },
  {
   "cell_type": "markdown",
   "id": "2",
   "metadata": {},
   "source": [
    "## Pack\n",
    "\n",
    "Lets start with a resistance sweep, where you change the resistance width to measure sheet resistance."
   ]
  },
  {
   "cell_type": "code",
   "execution_count": null,
   "id": "3",
   "metadata": {},
   "outputs": [],
   "source": [
    "sweep = [gf.components.resistance_sheet(width=width) for width in [1, 10, 50]]\n",
    "m = gf.pack(sweep)\n",
    "c = m[0]\n",
    "c.plot()"
   ]
  },
  {
   "cell_type": "markdown",
   "id": "4",
   "metadata": {},
   "source": [
    "Then we add spirals with different lengths to measure waveguide propagation loss. You can use both fiber array or single fiber."
   ]
  },
  {
   "cell_type": "code",
   "execution_count": null,
   "id": "5",
   "metadata": {},
   "outputs": [],
   "source": [
    "from toolz import compose\n",
    "from functools import partial\n",
    "import gdsfactory as gf\n",
    "\n",
    "gf.config.rich_output()\n",
    "\n",
    "c = gf.components.spiral(length=100)\n",
    "c.info[\"measurement\"] = \"optical_loopback2\"\n",
    "c = add_label_json(c)\n",
    "c.plot()"
   ]
  },
  {
   "cell_type": "code",
   "execution_count": null,
   "id": "6",
   "metadata": {},
   "outputs": [],
   "source": [
    "c.info"
   ]
  },
  {
   "cell_type": "code",
   "execution_count": null,
   "id": "7",
   "metadata": {},
   "outputs": [],
   "source": [
    "spiral = gf.components.spiral()\n",
    "spiral.plot()"
   ]
  },
  {
   "cell_type": "code",
   "execution_count": null,
   "id": "8",
   "metadata": {},
   "outputs": [],
   "source": [
    "spiral_te = gf.routing.add_fiber_array(gf.components.spiral)\n",
    "spiral_te.plot()"
   ]
  },
  {
   "cell_type": "code",
   "execution_count": null,
   "id": "9",
   "metadata": {},
   "outputs": [],
   "source": [
    "# which is equivalent to\n",
    "spiral_te = gf.compose(\n",
    "    gf.routing.add_fiber_array,\n",
    "    gf.components.spiral,\n",
    ")\n",
    "c = spiral_te(length=100)\n",
    "c.plot()"
   ]
  },
  {
   "cell_type": "code",
   "execution_count": null,
   "id": "10",
   "metadata": {},
   "outputs": [],
   "source": [
    "spiral_te = gf.compose(\n",
    "    gf.routing.add_fiber_array,\n",
    "    gf.components.spiral,\n",
    ")\n",
    "sweep = [spiral_te(length=length) for length in [100, 200, 300]]\n",
    "m = gf.pack(sweep)\n",
    "c = m[0]\n",
    "c.plot()"
   ]
  },
  {
   "cell_type": "code",
   "execution_count": null,
   "id": "11",
   "metadata": {},
   "outputs": [],
   "source": [
    "from toolz import compose\n",
    "from functools import partial\n",
    "import gdsfactory as gf\n",
    "\n",
    "c = gf.components.spiral(length=200)\n",
    "c.info[\"measurement\"] = \"optical_loopback2\"\n",
    "c = gf.labels.add_label_json(c)\n",
    "c.show()\n",
    "c.plot()"
   ]
  },
  {
   "cell_type": "code",
   "execution_count": null,
   "id": "12",
   "metadata": {},
   "outputs": [],
   "source": [
    "def add_label_json(component):\n",
    "    \"\"\"Add label json and component.info)\"\"\"\n",
    "    component.info[\"measurement\"] = \"optical_loopback2\"\n",
    "    component = gf.labels.add_label_json(component)\n",
    "    return component"
   ]
  },
  {
   "cell_type": "code",
   "execution_count": null,
   "id": "13",
   "metadata": {},
   "outputs": [],
   "source": [
    "sweep = [\n",
    "    add_label_json(gf.components.spiral(length=length)) for length in [100, 200, 300]\n",
    "]\n",
    "m = gf.pack(sweep)\n",
    "c = m[0]\n",
    "c.show()\n",
    "c.plot()"
   ]
  },
  {
   "cell_type": "markdown",
   "id": "14",
   "metadata": {},
   "source": [
    "You can also add some physical labels that will be fabricated.\n",
    "For example you can add prefix `S` at the `north-center` of each spiral using `text_rectangular` which is DRC clean and anchored on `nc` (north-center)"
   ]
  },
  {
   "cell_type": "code",
   "execution_count": null,
   "id": "15",
   "metadata": {},
   "outputs": [],
   "source": [
    "text_metal = partial(gf.components.text_rectangular_multi_layer, layers=(\"M1\",))\n",
    "\n",
    "m = gf.pack(sweep, text=text_metal, text_anchors=(\"cw\",), text_prefix=\"s\")\n",
    "c = m[0]\n",
    "c.show()\n",
    "c.plot()"
   ]
  },
  {
   "cell_type": "markdown",
   "id": "16",
   "metadata": {},
   "source": [
    "## Grid\n",
    "\n",
    "You can also pack components with a constant spacing."
   ]
  },
  {
   "cell_type": "code",
   "execution_count": null,
   "id": "17",
   "metadata": {},
   "outputs": [],
   "source": [
    "g = gf.grid(sweep)\n",
    "g.plot()"
   ]
  },
  {
   "cell_type": "code",
   "execution_count": null,
   "id": "18",
   "metadata": {},
   "outputs": [],
   "source": [
    "gh = gf.grid(sweep, shape=(1, len(sweep)))\n",
    "gh.plot()"
   ]
  },
  {
   "cell_type": "code",
   "execution_count": null,
   "id": "19",
   "metadata": {},
   "outputs": [],
   "source": [
    "gh_ymin = gf.grid(sweep, shape=(len(sweep), 1), align_x=\"xmin\")\n",
    "gh_ymin.plot()"
   ]
  },
  {
   "cell_type": "markdown",
   "id": "20",
   "metadata": {},
   "source": [
    "You can also add text labels to each element of the sweep"
   ]
  },
  {
   "cell_type": "code",
   "execution_count": null,
   "id": "21",
   "metadata": {},
   "outputs": [],
   "source": [
    "gh_ymin = gf.grid_with_text(\n",
    "    sweep, shape=(len(sweep), 1), align_x=\"xmax\", text=text_metal\n",
    ")\n",
    "gh_ymin.plot()"
   ]
  },
  {
   "cell_type": "markdown",
   "id": "22",
   "metadata": {},
   "source": [
    "You have 2 ways of defining a mask:\n",
    "\n",
    "1. in python\n",
    "2. in YAML\n",
    "\n",
    "\n",
    "## 1. Component in python\n",
    "\n",
    "You can define a Component top cell reticle or die using `grid` and `pack` python functions."
   ]
  },
  {
   "cell_type": "code",
   "execution_count": null,
   "id": "23",
   "metadata": {},
   "outputs": [],
   "source": [
    "text_metal3 = partial(gf.components.text_rectangular_multi_layer, layers=((49, 0),))\n",
    "grid = partial(gf.grid_with_text, text=text_metal3)\n",
    "pack = partial(gf.pack, text=text_metal3)\n",
    "\n",
    "gratings_sweep = [\n",
    "    gf.components.grating_coupler_elliptical(taper_angle=taper_angle)\n",
    "    for taper_angle in [20, 30, 40]\n",
    "]\n",
    "gratings = grid(gratings_sweep, text=None)\n",
    "gratings.plot()"
   ]
  },
  {
   "cell_type": "code",
   "execution_count": null,
   "id": "24",
   "metadata": {},
   "outputs": [],
   "source": [
    "gratings_sweep = [\n",
    "    gf.components.grating_coupler_elliptical(taper_angle=taper_angle)\n",
    "    for taper_angle in [20, 30, 40]\n",
    "]\n",
    "gratings_loss_sweep = [\n",
    "    gf.components.grating_coupler_loss_fiber_array(grating_coupler=grating)\n",
    "    for grating in gratings_sweep\n",
    "]\n",
    "gratings = grid(\n",
    "    gratings_loss_sweep, shape=(1, len(gratings_loss_sweep)), spacing=(40, 0)\n",
    ")\n",
    "gratings.plot()"
   ]
  },
  {
   "cell_type": "code",
   "execution_count": null,
   "id": "25",
   "metadata": {},
   "outputs": [],
   "source": [
    "sweep_resistance = [\n",
    "    gf.components.resistance_sheet(width=width) for width in [1, 10, 50]\n",
    "]\n",
    "resistance = gf.pack(sweep_resistance)[0]\n",
    "resistance.plot()"
   ]
  },
  {
   "cell_type": "code",
   "execution_count": null,
   "id": "26",
   "metadata": {},
   "outputs": [],
   "source": [
    "spiral_te = gf.compose(\n",
    "    gf.routing.add_fiber_array,\n",
    "    gf.components.spiral,\n",
    ")\n",
    "sweep_spirals = [spiral_te(length=length) for length in [100, 200, 300]]\n",
    "spirals = gf.pack(sweep_spirals)[0]\n",
    "spirals.plot()"
   ]
  },
  {
   "cell_type": "code",
   "execution_count": null,
   "id": "27",
   "metadata": {
    "lines_to_next_cell": 2
   },
   "outputs": [],
   "source": [
    "mask = gf.pack([spirals, resistance, gratings])[0]\n",
    "mask.plot()"
   ]
  },
  {
   "cell_type": "markdown",
   "id": "28",
   "metadata": {
    "lines_to_next_cell": 2
   },
   "source": [
    "As you can see you can define your mask in a single line.\n",
    "\n",
    "For more complex mask, you can also create a new cell to build up more complexity\n"
   ]
  },
  {
   "cell_type": "code",
   "execution_count": null,
   "id": "29",
   "metadata": {},
   "outputs": [],
   "source": [
    "@gf.cell\n",
    "def mask():\n",
    "    c = gf.Component()\n",
    "    c << gf.pack([spirals, resistance, gratings])[0]\n",
    "    c << gf.components.seal_ring(c)\n",
    "    return c\n",
    "\n",
    "\n",
    "c = mask()\n",
    "c.plot()"
   ]
  },
  {
   "cell_type": "markdown",
   "id": "30",
   "metadata": {},
   "source": [
    "## 2. Component in YAML\n",
    "\n",
    "You can also define your component in YAML format thanks to `gdsfactory.read.from_yaml`\n",
    "\n",
    "You need to define:\n",
    "\n",
    "- instances\n",
    "- placements\n",
    "- routes (optional)\n",
    "\n",
    "and you can leverage:\n",
    "\n",
    "1. `pack_doe`\n",
    "2. `pack_doe_grid`"
   ]
  },
  {
   "cell_type": "markdown",
   "id": "31",
   "metadata": {},
   "source": [
    "### 2.1 pack_doe\n",
    "\n",
    "`pack_doe` places components as compact as possible."
   ]
  },
  {
   "cell_type": "code",
   "execution_count": null,
   "id": "32",
   "metadata": {},
   "outputs": [],
   "source": [
    "c = gf.read.from_yaml(\n",
    "    \"\"\"\n",
    "name: mask_grid\n",
    "\n",
    "instances:\n",
    "  rings:\n",
    "    component: pack_doe\n",
    "    settings:\n",
    "      doe: ring_single\n",
    "      settings:\n",
    "        radius: [30, 50, 20, 40]\n",
    "        length_x: [1, 2, 3]\n",
    "      do_permutations: True\n",
    "      function:\n",
    "        function: add_fiber_array\n",
    "        settings:\n",
    "            fanout_length: 200\n",
    "\n",
    "  mzis:\n",
    "    component: pack_doe\n",
    "    settings:\n",
    "      doe: mzi\n",
    "      settings:\n",
    "        delta_length: [10, 100]\n",
    "      function: add_fiber_array\n",
    "\n",
    "placements:\n",
    "  rings:\n",
    "    xmin: 50\n",
    "\n",
    "  mzis:\n",
    "    xmin: rings,east\n",
    "\"\"\"\n",
    ")\n",
    "\n",
    "c.plot()"
   ]
  },
  {
   "cell_type": "markdown",
   "id": "33",
   "metadata": {},
   "source": [
    "### 2.2 pack_doe_grid\n",
    "\n",
    "`pack_doe_grid` places each component on a regular grid"
   ]
  },
  {
   "cell_type": "code",
   "execution_count": null,
   "id": "34",
   "metadata": {
    "lines_to_next_cell": 2
   },
   "outputs": [],
   "source": [
    "c = gf.read.from_yaml(\n",
    "    \"\"\"\n",
    "name: mask_compact\n",
    "\n",
    "instances:\n",
    "  rings:\n",
    "    component: pack_doe\n",
    "    settings:\n",
    "      doe: ring_single\n",
    "      settings:\n",
    "        radius: [30, 50, 20, 40]\n",
    "        length_x: [1, 2, 3]\n",
    "      do_permutations: True\n",
    "      function:\n",
    "        function: add_fiber_array\n",
    "        settings:\n",
    "            fanout_length: 200\n",
    "\n",
    "\n",
    "  mzis:\n",
    "    component: pack_doe_grid\n",
    "    settings:\n",
    "      doe: mzi\n",
    "      settings:\n",
    "        delta_length: [10, 100]\n",
    "      do_permutations: True\n",
    "      spacing: [10, 10]\n",
    "      function: add_fiber_array\n",
    "\n",
    "placements:\n",
    "  rings:\n",
    "    xmin: 50\n",
    "\n",
    "  mzis:\n",
    "    xmin: rings,east\n",
    "\"\"\"\n",
    ")\n",
    "c.plot()"
   ]
  },
  {
   "cell_type": "markdown",
   "id": "35",
   "metadata": {
    "lines_to_next_cell": 2
   },
   "source": [
    "## Automated testing exposing all ports\n",
    "\n",
    "You can promote all the ports that need to be tested to the top level component and then write a CSV test manifest.\n",
    "\n",
    "This is the recommended way for measuring components that have electrical and optical port."
   ]
  },
  {
   "cell_type": "code",
   "execution_count": null,
   "id": "36",
   "metadata": {},
   "outputs": [],
   "source": [
    "from gdsfactory.generic_tech.cells import add_fiber_array_optical_south_electrical_north\n",
    "\n",
    "test_info_spirals = dict(\n",
    "    doe=\"spirals_sc\",\n",
    "    measurement=\"optical_loopback4\",\n",
    "    analysis=\"optical_loopback4_spirals\",\n",
    ")\n",
    "test_info_mzi_heaters = dict(\n",
    "    doe=\"mzis_heaters\",\n",
    "    analysis=\"mzi_heater\",\n",
    "    measurement=\"optical_loopback4_heater_sweep\",\n",
    ")\n",
    "test_info_ring_heaters = dict(\n",
    "    doe=\"ring_heaters\",\n",
    "    analysis=\"ring_heater\",\n",
    "    measurement=\"optical_loopback2_heater_sweep\",\n",
    ")\n",
    "\n",
    "\n",
    "def sample_reticle() -> gf.Component:\n",
    "    \"\"\"Returns MZI with TE grating couplers.\"\"\"\n",
    "\n",
    "    mzis = [\n",
    "        gf.components.mzi2x2_2x2_phase_shifter(length_x=length, auto_rename_ports=False)\n",
    "        for length in [100, 200, 300]\n",
    "    ]\n",
    "    rings = [\n",
    "        gf.components.ring_single_heater(length_x=length_x) for length_x in [10, 20, 30]\n",
    "    ]\n",
    "\n",
    "    spirals_te = [\n",
    "        gf.routing.add_fiber_array(\n",
    "            gf.components.spiral(\n",
    "                length=length,\n",
    "            )\n",
    "        )\n",
    "        for length in [0, 100, 200]\n",
    "    ]\n",
    "    mzis_te = [\n",
    "        add_fiber_array_optical_south_electrical_north(\n",
    "            component=mzi,\n",
    "            electrical_port_names=(\"top_l_e2\", \"top_r_e2\"),\n",
    "        )\n",
    "        for mzi in mzis\n",
    "    ]\n",
    "    rings_te = [\n",
    "        add_fiber_array_optical_south_electrical_north(\n",
    "            component=ring,\n",
    "            electrical_port_names=(\"l_e2\", \"r_e2\"),\n",
    "        )\n",
    "        for ring in rings\n",
    "    ]\n",
    "\n",
    "    for component in mzis_te:\n",
    "        component.info.update(test_info_mzi_heaters)\n",
    "\n",
    "    for component in rings_te:\n",
    "        component.info.update(test_info_ring_heaters)\n",
    "\n",
    "    for component in spirals_te:\n",
    "        component.info.update(test_info_spirals)\n",
    "\n",
    "    components = mzis_te + rings_te + spirals_te\n",
    "    return gf.pack(components)[0]\n",
    "\n",
    "\n",
    "c = sample_reticle()\n",
    "c.show()\n",
    "c.plot()"
   ]
  },
  {
   "cell_type": "code",
   "execution_count": null,
   "id": "37",
   "metadata": {},
   "outputs": [],
   "source": [
    "c.pprint_ports()"
   ]
  },
  {
   "cell_type": "code",
   "execution_count": null,
   "id": "38",
   "metadata": {},
   "outputs": [],
   "source": [
    "df = gf.labels.get_test_manifest(c)\n",
    "df"
   ]
  },
  {
   "cell_type": "code",
   "execution_count": null,
   "id": "39",
   "metadata": {},
   "outputs": [],
   "source": [
    "df.to_csv(\"test_manifest.csv\")"
   ]
  },
  {
   "cell_type": "code",
   "execution_count": null,
   "id": "40",
   "metadata": {},
   "outputs": [],
   "source": [
    "def sample_reticle_grid() -> gf.Component:\n",
    "    \"\"\"Returns sample reticle with grid packer.\"\"\"\n",
    "    from gdsfactory.generic_tech.cells import (\n",
    "        add_fiber_array_optical_south_electrical_north,\n",
    "    )\n",
    "\n",
    "    mzis = [\n",
    "        gf.components.mzi2x2_2x2_phase_shifter(length_x=length, auto_rename_ports=False)\n",
    "        for length in [100, 200, 300]\n",
    "    ]\n",
    "    rings = [\n",
    "        gf.components.ring_single_heater(length_x=length_x) for length_x in [10, 20, 30]\n",
    "    ]\n",
    "\n",
    "    spirals_te = [\n",
    "        gf.routing.add_fiber_array(\n",
    "            gf.components.spiral(\n",
    "                length=length,\n",
    "            )\n",
    "        )\n",
    "        for length in [0, 100, 200]\n",
    "    ]\n",
    "    mzis_te = [\n",
    "        add_fiber_array_optical_south_electrical_north(\n",
    "            component=mzi,\n",
    "            electrical_port_names=[\"top_l_e2\", \"top_r_e2\"],\n",
    "        )\n",
    "        for mzi in mzis\n",
    "    ]\n",
    "    rings_te = [\n",
    "        add_fiber_array_optical_south_electrical_north(\n",
    "            component=ring,\n",
    "            electrical_port_names=[\"l_e2\", \"r_e2\"],\n",
    "        )\n",
    "        for ring in rings\n",
    "    ]\n",
    "\n",
    "    for component in mzis_te:\n",
    "        component.info.update(test_info_mzi_heaters)\n",
    "\n",
    "    for component in rings_te:\n",
    "        component.info.update(test_info_ring_heaters)\n",
    "\n",
    "    for component in spirals_te:\n",
    "        component.info.update(test_info_spirals)\n",
    "\n",
    "    components = mzis_te + rings_te + spirals_te\n",
    "    return gf.grid(components)\n",
    "\n",
    "\n",
    "c = sample_reticle_grid()\n",
    "c.plot()"
   ]
  },
  {
   "cell_type": "code",
   "execution_count": null,
   "id": "41",
   "metadata": {},
   "outputs": [],
   "source": [
    "df = gf.labels.get_test_manifest(c)\n",
    "df"
   ]
  },
  {
   "cell_type": "code",
   "execution_count": null,
   "id": "42",
   "metadata": {},
   "outputs": [],
   "source": [
    "df.to_csv(\"test_manifest.csv\")"
   ]
  },
  {
   "cell_type": "markdown",
   "id": "43",
   "metadata": {},
   "source": [
    "You can see a test manifest example [here](https://docs.google.com/spreadsheets/d/1845m-XZM8tZ1tNd8GIvAaq7ZE-iha00XNWa0XrEOabc/edit#gid=233591479)"
   ]
  },
  {
   "cell_type": "markdown",
   "id": "44",
   "metadata": {},
   "source": []
  }
 ],
 "metadata": {
  "jupytext": {
   "cell_metadata_filter": "-all",
   "custom_cell_magics": "kql"
  },
  "kernelspec": {
   "display_name": "base",
   "language": "python",
   "name": "python3"
  },
  "language_info": {
   "codemirror_mode": {
    "name": "ipython",
    "version": 3
   },
   "file_extension": ".py",
   "mimetype": "text/x-python",
   "name": "python",
   "nbconvert_exporter": "python",
   "pygments_lexer": "ipython3",
   "version": "3.11.5"
  }
 },
 "nbformat": 4,
 "nbformat_minor": 5
}
